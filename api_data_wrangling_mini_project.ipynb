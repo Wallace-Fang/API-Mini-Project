{
 "cells": [
  {
   "cell_type": "markdown",
   "metadata": {},
   "source": [
    "This exercise will require you to pull some data from https://data.nasdaq.com/ (formerly Quandl API)."
   ]
  },
  {
   "cell_type": "markdown",
   "metadata": {},
   "source": [
    "As a first step, you will need to register a free account on the https://data.nasdaq.com/ website."
   ]
  },
  {
   "cell_type": "markdown",
   "metadata": {},
   "source": [
    "After you register, you will be provided with a unique API key, that you should store:\n",
    "\n",
    "*Note*: Use a `.env` file and put your key in there and `python-dotenv` to access it in this notebook. \n",
    "\n",
    "The code below uses a key that was used when generating this project but has since been deleted. Never submit your keys to source control. There is a `.env-example` file in this repository to illusrtate what you need. Copy that to a file called `.env` and use your own api key in that `.env` file. Make sure you also have a `.gitignore` file with a line for `.env` added to it. \n",
    "\n",
    "The standard Python gitignore is [here](https://github.com/github/gitignore/blob/master/Python.gitignore) you can just copy that. "
   ]
  },
  {
   "cell_type": "code",
   "execution_count": 82,
   "metadata": {},
   "outputs": [],
   "source": [
    "# get api key from your .env file\n",
    "import os\n",
    "from dotenv import load_dotenv\n",
    "\n",
    "load_dotenv()\n",
    "API_KEY = os.getenv('NASDAQ_API_KEY')"
   ]
  },
  {
   "cell_type": "markdown",
   "metadata": {},
   "source": [
    "Nasdaq Data has a large number of data sources, but, unfortunately, most of them require a Premium subscription. Still, there are also a good number of free datasets."
   ]
  },
  {
   "cell_type": "markdown",
   "metadata": {},
   "source": [
    "For this mini project, we will focus on equities data from the Frankfurt Stock Exhange (FSE), which is available for free. We'll try and analyze the stock prices of a company called Carl Zeiss Meditec, which manufactures tools for eye examinations, as well as medical lasers for laser eye surgery: https://www.zeiss.com/meditec/int/home.html. The company is listed under the stock ticker AFX_X."
   ]
  },
  {
   "cell_type": "markdown",
   "metadata": {},
   "source": [
    "You can find the detailed Nasdaq Data API instructions here: https://docs.data.nasdaq.com/docs/in-depth-usage"
   ]
  },
  {
   "cell_type": "markdown",
   "metadata": {},
   "source": [
    "While there is a dedicated Python package for connecting to the Nasdaq API, we would prefer that you use the *requests* package, which can be easily downloaded using *pip* or *conda*. You can find the documentation for the package here: http://docs.python-requests.org/en/master/ "
   ]
  },
  {
   "cell_type": "markdown",
   "metadata": {},
   "source": [
    "Finally, apart from the *requests* package, you are encouraged to not use any third party Python packages, such as *pandas*, and instead focus on what's available in the Python Standard Library (the *collections* module might come in handy: https://pymotw.com/3/collections/).\n",
    "Also, since you won't have access to DataFrames, you are encouraged to us Python's native data structures - preferably dictionaries, though some questions can also be answered using lists.\n",
    "You can read more on these data structures here: https://docs.python.org/3/tutorial/datastructures.html"
   ]
  },
  {
   "cell_type": "markdown",
   "metadata": {},
   "source": [
    "Keep in mind that the JSON responses you will be getting from the API map almost one-to-one to Python's dictionaries. Unfortunately, they can be very nested, so make sure you read up on indexing dictionaries in the documentation provided above."
   ]
  },
  {
   "cell_type": "code",
   "execution_count": 83,
   "metadata": {},
   "outputs": [],
   "source": [
    "# First, import the relevant modules\n",
    "import requests"
   ]
  },
  {
   "cell_type": "markdown",
   "metadata": {},
   "source": [
    "Note: API's can change a bit with each version, for this exercise it is reccomended to use the nasdaq api at `https://data.nasdaq.com/api/v3/`. This is the same api as what used to be quandl so `https://www.quandl.com/api/v3/` should work too.\n",
    "\n",
    "Hint: We are looking for the `AFX_X` data on the `datasets/FSE/` dataset."
   ]
  },
  {
   "cell_type": "code",
   "execution_count": 84,
   "metadata": {},
   "outputs": [
    {
     "data": {
      "text/plain": [
       "200"
      ]
     },
     "execution_count": 84,
     "metadata": {},
     "output_type": "execute_result"
    }
   ],
   "source": [
    "# Now, call the Nasdaq API and pull out a small sample of the data (only one day) to get a glimpse\n",
    "# into the JSON structure that will be returned\n",
    "r = requests.get('https://data.nasdaq.com/api/v3/' + 'datasets/FSE/AFX_X' + '/data.json?' + API_KEY)\n",
    "r.status_code"
   ]
  },
  {
   "cell_type": "code",
   "execution_count": 85,
   "metadata": {},
   "outputs": [
    {
     "data": {
      "text/plain": [
       "['Date',\n",
       " 'Open',\n",
       " 'High',\n",
       " 'Low',\n",
       " 'Close',\n",
       " 'Change',\n",
       " 'Traded Volume',\n",
       " 'Turnover',\n",
       " 'Last Price of the Day',\n",
       " 'Daily Traded Units',\n",
       " 'Daily Turnover']"
      ]
     },
     "execution_count": 85,
     "metadata": {},
     "output_type": "execute_result"
    }
   ],
   "source": [
    "# Inspect the JSON structure of the object you created, and take note of how nested it is,\n",
    "# as well as the overall structure\n",
    "json_data = r.json()\n",
    "json_data['dataset_data']['column_names']\n",
    "#print(json_data)"
   ]
  },
  {
   "cell_type": "markdown",
   "metadata": {},
   "source": [
    "These are your tasks for this mini project:\n",
    "\n",
    "1. Collect data from the Franfurt Stock Exchange, for the ticker AFX_X, for the whole year 2017 (keep in mind that the date format is YYYY-MM-DD).\n",
    "2. Convert the returned JSON object into a Python dictionary.\n",
    "3. Calculate what the highest and lowest opening prices were for the stock in this period.\n",
    "4. What was the largest change in any one day (based on High and Low price)?\n",
    "5. What was the largest change between any two days (based on Closing Price)?\n",
    "6. What was the average daily trading volume during this year?\n",
    "7. (Optional) What was the median trading volume during this year. (Note: you may need to implement your own function for calculating the median.)"
   ]
  },
  {
   "cell_type": "code",
   "execution_count": 86,
   "metadata": {},
   "outputs": [],
   "source": [
    "AFX_X_2017 = []\n",
    "\n",
    "#subset the json dictionary to only have stock market data\n",
    "stock_data = json_data['dataset_data']['data']\n",
    "\n",
    "\n",
    "#subset data to only contain data from '2017' by checking the first 5 chars for the year\n",
    "#if the data is 2017, appends the row of data to AFX_X_2017 to be coverted to a dict later\n",
    "for stock in stock_data:\n",
    "    for data in stock:\n",
    "        if str(data)[:5] == '2017-':\n",
    "            #print(data)\n",
    "            AFX_X_2017.append(stock)\n",
    "\n",
    "            \n",
    "#creates a dictionary for the json data contained in AFX_X_2017\n",
    "#key is a number starting from 1 (and increments by 1) and the values are the columns of data\n",
    "AFX_X_2017_dict = dict(enumerate(AFX_X_2017))"
   ]
  },
  {
   "cell_type": "code",
   "execution_count": 87,
   "metadata": {},
   "outputs": [],
   "source": [
    "#for k, v in AFX_X_2017_dict.items():\n",
    "#    print(v)"
   ]
  },
  {
   "cell_type": "code",
   "execution_count": 88,
   "metadata": {},
   "outputs": [],
   "source": [
    "#highest_opening = max([v for k, v in AFX_X_2017_dict.items() if AFX_X_2017_dict[k][1] is not None])\n",
    "#lowest_opening = min([v for k, v in AFX_X_2017_dict.items() if AFX_X_2017_dict[k][1] is not None])\n",
    "\n",
    "\n",
    "#initialize variables to hold the index (the key) of the desired stat\n",
    "#the variables are initalized to the first row of data as a basis of comparsion\n",
    "highest_key, highest_open = 0, AFX_X_2017[0][1]                             #highest opening day\n",
    "lowest_key, lowest_open = 0, AFX_X_2017[0][1]                               #lowest opening dat\n",
    "change1_key, largest_change1 = 0, AFX_X_2017[0][2] - AFX_X_2017[0][3]       #largest change in one day \n",
    "change2_key, largest_change2 = 0, AFX_X_2017[0][4]                          #largest change in two days\n",
    "volume_sum = 0                                                              #tracks sums all of the daily trade volumes\n",
    "counter = 0                                                                 #used to divide 'volume_sum' to get average\n",
    "median_trade_list = []                                                      #stores all of daily trade volume\n",
    "\n",
    "\n",
    "\n",
    "#iterates through all of the dictionary\n",
    "for k, v in AFX_X_2017_dict.items():\n",
    "    \n",
    "    #checks if the value is not Null, originally we could have filtered out all null\n",
    "    #data but just because one column is missing data does not neccesarily mean other\n",
    "    #columns are missing data relevant to the assignment, so I decided to check each column\n",
    "    #individually for missing data instead\n",
    "    \n",
    "    \n",
    "    #checks first column, the opening price\n",
    "    if v[1] is not None:\n",
    "        \n",
    "        \n",
    "        #does a comparsion if the current opening price is higher than the value stored in\n",
    "        #'highest_open', if so the current opening price is the new highest price and we\n",
    "        #store the index because having the date is useful\n",
    "        \n",
    "        if v[1] > highest_open:\n",
    "            highest_open = v[1]\n",
    "            highest_key = k\n",
    "        \n",
    "        \n",
    "        #does a comparsion if the current opening price is lowerthan the value stored in\n",
    "        #'lowest_open', if so the current opening price is the new highest price, updates\n",
    "        #the index \n",
    "        \n",
    "        if v[1] < lowest_open:\n",
    "            lowest_open = v[1]\n",
    "            lowest_key = k\n",
    "     \n",
    "    \n",
    "    #checks columns for the highest and lowest price, subtracts the two value to determine\n",
    "    #the difference of the stock in day, updates 'largest_change1' is the current difference\n",
    "    #is greater than the one stored in 'largest_change1'\n",
    "    if v[2] and v[3] is not None:\n",
    "        \n",
    "        if v[2]-v[3] > largest_change1:\n",
    "            largest_change1 = v[2] - v[3]\n",
    "            change1_key = k\n",
    "    \n",
    "    \n",
    "    #checks column for the largest change in two days, performs comparsion similarly to the\n",
    "    #previous steps\n",
    "    if v[4] is not None:\n",
    "        \n",
    "        if v[4] > largest_change2:\n",
    "            largest_change2 = v[4]\n",
    "            change2_key = k\n",
    "    \n",
    "    \n",
    "    #checks column for the daily trade volume, sums up the volume and store it in 'volume_sum'\n",
    "    #increments 'counter' so that we have something to calculate the average with later on\n",
    "    #appends the volume to 'median_trade_list' to determine median trade volume\n",
    "    if v[6] is not None:\n",
    "        volume_sum += v[6]\n",
    "        counter += 1\n",
    "        median_trade_list.append(v[6])"
   ]
  },
  {
   "cell_type": "code",
   "execution_count": 89,
   "metadata": {},
   "outputs": [],
   "source": [
    "#sorts the trade volume from lowest to highest\n",
    "median_trade_list.sort()\n",
    "\n",
    "#gets the median trade volume, integer divide the length of the list by 2 but subtract 1 first to\n",
    "#account for lists starting at 0, regular division may return a float if the list is of odd length\n",
    "#so integer division is the beter option\n",
    "median_trade_volume = median_trade_list[int((len(median_trade_list) - 1)//2)]"
   ]
  },
  {
   "cell_type": "code",
   "execution_count": 90,
   "metadata": {},
   "outputs": [
    {
     "name": "stdout",
     "output_type": "stream",
     "text": [
      "The highest opening was on 2017-12-14 at $ 53.11\n",
      "The lowest opening was on 2017-01-24 at $ 34.0\n",
      "The largest change in any one day was on 2017-05-11 with $ 2.8100000000000023\n",
      "the largest change between any two days was on 2017-12-13 with $ 53.09\n",
      "The average daily trading volume during 2017 was 89124.33725490196\n",
      "THe median trade volume during 2017 was 76286.0\n"
     ]
    }
   ],
   "source": [
    "print(\"The highest opening was on\", AFX_X_2017[highest_key][0], \"at $\", highest_open)\n",
    "print(\"The lowest opening was on\", AFX_X_2017[lowest_key][0], \"at $\", lowest_open)\n",
    "print(\"The largest change in any one day was on\", AFX_X_2017[change1_key][0], \"with $\",largest_change1)\n",
    "print(\"the largest change between any two days was on\", AFX_X_2017[change2_key][0], \"with $\", largest_change2)\n",
    "print(\"The average daily trading volume during 2017 was\", volume_sum/counter)\n",
    "print(\"The median trade volume during 2017 was\", median_trade_volume)"
   ]
  },
  {
   "cell_type": "code",
   "execution_count": null,
   "metadata": {},
   "outputs": [],
   "source": []
  }
 ],
 "metadata": {
  "interpreter": {
   "hash": "7635eb1b9d0fe97add78a7368b6b431c09bb8ad5c42e437d64abdd99821c31ae"
  },
  "kernelspec": {
   "display_name": "Python 3 (ipykernel)",
   "language": "python",
   "name": "python3"
  },
  "language_info": {
   "codemirror_mode": {
    "name": "ipython",
    "version": 3
   },
   "file_extension": ".py",
   "mimetype": "text/x-python",
   "name": "python",
   "nbconvert_exporter": "python",
   "pygments_lexer": "ipython3",
   "version": "3.9.13"
  }
 },
 "nbformat": 4,
 "nbformat_minor": 4
}
